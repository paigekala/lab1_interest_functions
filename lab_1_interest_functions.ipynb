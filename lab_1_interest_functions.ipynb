{
  "cells": [
    {
      "cell_type": "markdown",
      "metadata": {
        "id": "mYbKfibwgS6m"
      },
      "source": [
        "## Lab 1 - Compound Interest Functions\n",
        "\n",
        "Below you will find a table of important formulae related to compound interest.  \n",
        "\n",
        "<img src=\"https://www.dummies.com/wp-content/uploads/251689.image0.jpg\" alt=\"image0.jpg\" width=\"400\" height=\"319\">\n",
        "\n",
        "In this lab, you will create functions for each of these using (and documenting) the following workflow.\n",
        "\n",
        "1. Work out the correct answer for a few examples. *Hint* Search for e.g. \"worked out compound interest examples\" on the web.\n",
        "2. Write a `lambda` function and test this function on your test cases.\n",
        "3. Convert the `lambda` function to a `def` statement with an informative doc string that follows the [Google formating rules](https://google.github.io/styleguide/pyguide.html#383-functions-and-methods).\n",
        "4. Write an automated test function (using your previous examples) that will test your `def` statement function each time the code is executed."
      ]
    },
    {
      "cell_type": "markdown",
      "metadata": {
        "id": "C4M4IkrFgS6q"
      },
      "source": [
        "#### Problem 1 -- Apply the process to create a simple interest functions."
      ]
    },
    {
      "cell_type": "code",
      "execution_count": 6,
      "metadata": {
        "colab": {
          "base_uri": "https://localhost:8080/"
        },
        "id": "HYbO4uvEgS6r",
        "outputId": "999d7f9a-cf58-407f-b54f-cdddcd27cd7a"
      },
      "outputs": [
        {
          "output_type": "execute_result",
          "data": {
            "text/plain": [
              "4000.0"
            ]
          },
          "metadata": {},
          "execution_count": 6
        }
      ],
      "source": [
        "#car loan of $20,000 with an interest rate of 4%. We want to find the price after 5 years.\n",
        "\n",
        "(20000*.04)*5"
      ]
    },
    {
      "cell_type": "code",
      "source": [
        "loan = 20000\n",
        "interest_rate = .04\n",
        "years = 5\n",
        "price = (loan*interest_rate)*years\n",
        "price"
      ],
      "metadata": {
        "colab": {
          "base_uri": "https://localhost:8080/"
        },
        "id": "GTcKedj-ixH5",
        "outputId": "944faf7c-5fe6-4252-ccaf-d9d65f73bbee"
      },
      "execution_count": 7,
      "outputs": [
        {
          "output_type": "execute_result",
          "data": {
            "text/plain": [
              "4000.0"
            ]
          },
          "metadata": {},
          "execution_count": 7
        }
      ]
    },
    {
      "cell_type": "code",
      "source": [
        "price = lambda loan, interest_rate, years: (loan*interest_rate)*years #using different numbers to test\n",
        "price(30000, .05, 6)"
      ],
      "metadata": {
        "colab": {
          "base_uri": "https://localhost:8080/"
        },
        "id": "h32YQ9xUjITn",
        "outputId": "58e8d7c5-185c-4a55-c551-c15c3074a912"
      },
      "execution_count": 13,
      "outputs": [
        {
          "output_type": "execute_result",
          "data": {
            "text/plain": [
              "9000.0"
            ]
          },
          "metadata": {},
          "execution_count": 13
        }
      ]
    },
    {
      "cell_type": "code",
      "source": [
        "def price(loan, interest_rate, years):\n",
        "  \"\"\"Compute the car loan's interest rate over the course of 6 years\"\"\"\n",
        "  output = (loan*interest_rate)*years\n",
        "  return output"
      ],
      "metadata": {
        "id": "mftvd8JZjhoo"
      },
      "execution_count": 11,
      "outputs": []
    },
    {
      "cell_type": "code",
      "source": [
        "def test_price():\n",
        "  assert price(30000, .05, 6) == 9000\n",
        "  test_price"
      ],
      "metadata": {
        "id": "RfvQ11_PkCIX"
      },
      "execution_count": 12,
      "outputs": []
    },
    {
      "cell_type": "markdown",
      "metadata": {
        "id": "PcwPzFxMgS6t"
      },
      "source": [
        "#### Problem 2 -- Apply the process to create a compound interest functions."
      ]
    },
    {
      "cell_type": "code",
      "execution_count": 53,
      "metadata": {
        "colab": {
          "base_uri": "https://localhost:8080/"
        },
        "id": "9AttBGEcgS6t",
        "outputId": "9dbd361b-80c5-4389-cfb8-ea74e3b8781c"
      },
      "outputs": [
        {
          "output_type": "execute_result",
          "data": {
            "text/plain": [
              "1143.9603887008223"
            ]
          },
          "metadata": {},
          "execution_count": 53
        }
      ],
      "source": [
        "#Suppose you invest $1000 at 9% interest, compounded monthly. Find the amount you have after 18 months.\n",
        "P= 1000\n",
        "r=.09\n",
        "n=12\n",
        "t=1.5 #18 months = 1.5 years\n",
        "\n",
        "1000*(1+.09/12)**(12*1.5)"
      ]
    },
    {
      "cell_type": "code",
      "source": [
        "invested = 1000\n",
        "interest_rate = .09\n",
        "months_in_year = 12\n",
        "months_goal = 1.5\n",
        "amount = invested*(1+interest_rate/months_in_year)**(months_in_year*months_goal)\n",
        "amount"
      ],
      "metadata": {
        "id": "skPI3sF7v6bE",
        "outputId": "2d61603e-9406-4a1c-f534-2a933fd0c156",
        "colab": {
          "base_uri": "https://localhost:8080/"
        }
      },
      "execution_count": 56,
      "outputs": [
        {
          "output_type": "execute_result",
          "data": {
            "text/plain": [
              "1143.9603887008223"
            ]
          },
          "metadata": {},
          "execution_count": 56
        }
      ]
    },
    {
      "cell_type": "code",
      "source": [
        "amount = lambda invested, interest_rate, months_goal: invested*(1+interest_rate/months_in_year)**(months_in_year*months_goal)\n",
        "amount(1000, .09, 1.5)"
      ],
      "metadata": {
        "id": "MPiKlN0Dwq32",
        "outputId": "dc9118c6-e303-4cef-e6ce-a760261870d4",
        "colab": {
          "base_uri": "https://localhost:8080/"
        }
      },
      "execution_count": 61,
      "outputs": [
        {
          "output_type": "execute_result",
          "data": {
            "text/plain": [
              "1143.9603887008223"
            ]
          },
          "metadata": {},
          "execution_count": 61
        }
      ]
    },
    {
      "cell_type": "code",
      "source": [
        "def amount (invested, interest_rate, months_goal):\n",
        "  \"\"\"Suppose you invest $1000 at 9% interest, compounded monthly. Find the amount you have after 18 months.\"\"\"\n",
        "  output = invested*(1+interest_rate/months_in_year)**(months_in_year*months_goal)\n",
        "  return output"
      ],
      "metadata": {
        "id": "5thjo_MqxGyM"
      },
      "execution_count": 62,
      "outputs": []
    },
    {
      "cell_type": "code",
      "source": [
        "def test_amount():\n",
        "  assert test_amount(1000,.09,1.5) == 1143.96\n",
        "  test_amount"
      ],
      "metadata": {
        "id": "y-PL1jhPxehY"
      },
      "execution_count": 64,
      "outputs": []
    },
    {
      "cell_type": "markdown",
      "metadata": {
        "id": "LVdbgFF2gS6t"
      },
      "source": [
        "#### Problem 3 -- Apply the process to create a amortized loan payment function."
      ]
    },
    {
      "cell_type": "code",
      "execution_count": null,
      "metadata": {
        "id": "EV4Po7KxgS6u"
      },
      "outputs": [],
      "source": [
        "# a borrower is looking for finance for his new home. There is one lender who wishes to lend a loan of $2 million with a rate of interest of 8 percent for the tenure of 20 years. Help the borrower determine the monthly amortized loan amount."
      ]
    },
    {
      "cell_type": "code",
      "source": [
        "(2000000*.08)/12*(1+.08/12)**(12*20) / ((1+.08/12)**(12*20)-1)"
      ],
      "metadata": {
        "id": "gvdQPTE41efD",
        "outputId": "ece32810-1050-41d6-c22c-d197b1b4a8d9",
        "colab": {
          "base_uri": "https://localhost:8080/"
        }
      },
      "execution_count": 75,
      "outputs": [
        {
          "output_type": "execute_result",
          "data": {
            "text/plain": [
              "16728.801379869325"
            ]
          },
          "metadata": {},
          "execution_count": 75
        }
      ]
    },
    {
      "cell_type": "code",
      "source": [
        "borrowed_amt = 2000000\n",
        "interest_rate = .08\n",
        "time_years = 20\n",
        "monthly_amortized = (borrowed_amt*interest_rate)/12*(1+interest_rate/12)**(12*time_years) / ((1+interest_rate/12)**(12*time_years)-1)\n",
        "monthly_amortized"
      ],
      "metadata": {
        "id": "v178LUJ6344i",
        "outputId": "171514ce-7d51-4482-8165-72800f716605",
        "colab": {
          "base_uri": "https://localhost:8080/"
        }
      },
      "execution_count": 79,
      "outputs": [
        {
          "output_type": "execute_result",
          "data": {
            "text/plain": [
              "16728.801379869325"
            ]
          },
          "metadata": {},
          "execution_count": 79
        }
      ]
    },
    {
      "cell_type": "code",
      "source": [
        "monthly_amortized = lambda borrowed_amt, interest_rate, time_years: (borrowed_amt*interest_rate)/12*(1+interest_rate/12)**(12*time_years) / ((1+interest_rate/12)**(12*time_years)-1)\n",
        "monthly_amortized(2000000, .08, 20)"
      ],
      "metadata": {
        "id": "IIJ_o2-95M5b",
        "outputId": "5d2b65d8-da0e-46f3-b89b-6ff33fe116cc",
        "colab": {
          "base_uri": "https://localhost:8080/"
        }
      },
      "execution_count": 82,
      "outputs": [
        {
          "output_type": "execute_result",
          "data": {
            "text/plain": [
              "16728.801379869325"
            ]
          },
          "metadata": {},
          "execution_count": 82
        }
      ]
    },
    {
      "cell_type": "code",
      "source": [
        "def monthly_amortized (borrowed_amt, interest_rate, time_years):\n",
        "  \"\"\"a borrower is looking for finance for his new home. There is one lender who wishes to lend a loan of $2 million with a rate of interest of 8 percent for the tenure of 20 years. Help the borrower determine the monthly amortized loan amount.\"\"\"\n",
        "  output = borrowed_amt, interest_rate, time_years\n",
        "  return output"
      ],
      "metadata": {
        "id": "NPTmFDOe5ncp"
      },
      "execution_count": 83,
      "outputs": []
    },
    {
      "cell_type": "code",
      "source": [
        "def test_monthly_amortized():\n",
        "  assert test_monthly_amortized(2000000, .08, 20) == 16728\n",
        "  test_monthly_amortized"
      ],
      "metadata": {
        "id": "v-728qF-57vl"
      },
      "execution_count": 86,
      "outputs": []
    },
    {
      "cell_type": "markdown",
      "metadata": {
        "id": "KTNA0Rj7gS6u"
      },
      "source": [
        "#### Problem 4 -- Apply the process to create a remaining balance function"
      ]
    },
    {
      "cell_type": "code",
      "execution_count": null,
      "metadata": {
        "id": "WXggVP96gS6u"
      },
      "outputs": [],
      "source": [
        "# look for the amount of the loan that can be paid off by $1,000 a month payments in 10 years."
      ]
    },
    {
      "cell_type": "code",
      "source": [
        "1000*(1-(1+.06/12)**(-10*12)) / (.06/12)"
      ],
      "metadata": {
        "id": "xMPeMop_7IU5",
        "outputId": "2c704056-39f1-4a43-fa08-235581cf9ff0",
        "colab": {
          "base_uri": "https://localhost:8080/"
        }
      },
      "execution_count": 87,
      "outputs": [
        {
          "output_type": "execute_result",
          "data": {
            "text/plain": [
              "90073.45332716724"
            ]
          },
          "metadata": {},
          "execution_count": 87
        }
      ]
    },
    {
      "cell_type": "code",
      "source": [
        "monthly_payment = 1000\n",
        "interest_rate = .06\n",
        "years = 10\n",
        "loan_balance = monthly_payment*(1-(1+interest_rate/12)**(-years*12)) / (interest_rate/12)\n",
        "loan_balance"
      ],
      "metadata": {
        "id": "ePZnwIwt7aNK",
        "outputId": "ac986223-1edf-4438-9d42-1131752fe6fc",
        "colab": {
          "base_uri": "https://localhost:8080/"
        }
      },
      "execution_count": 88,
      "outputs": [
        {
          "output_type": "execute_result",
          "data": {
            "text/plain": [
              "90073.45332716724"
            ]
          },
          "metadata": {},
          "execution_count": 88
        }
      ]
    },
    {
      "cell_type": "code",
      "source": [
        "loan_balance = lambda monthly_payment, interest_rate, years: monthly_payment*(1-(1+interest_rate/12)**(-years*12)) / (interest_rate/12)\n",
        "loan_balance(1000, .06, 10)"
      ],
      "metadata": {
        "id": "-ft58uWy8HF4",
        "outputId": "2ef8e0ba-8921-4535-e88b-621dc6ff2d6c",
        "colab": {
          "base_uri": "https://localhost:8080/"
        }
      },
      "execution_count": 89,
      "outputs": [
        {
          "output_type": "execute_result",
          "data": {
            "text/plain": [
              "90073.45332716724"
            ]
          },
          "metadata": {},
          "execution_count": 89
        }
      ]
    },
    {
      "cell_type": "code",
      "source": [
        "def loan_balance (monthly_payment, interest_rate, years): \n",
        "  \"\"\"look for the amount of the loan that can be paid off by $1,000 a month payments in 10 years.\"\"\"\n",
        "  output = monthly_payment, interest_rate, years\n",
        "  return output"
      ],
      "metadata": {
        "id": "E-Xlecdb8Vc5"
      },
      "execution_count": 90,
      "outputs": []
    },
    {
      "cell_type": "code",
      "source": [
        "def test_loan_balance():\n",
        "  assert test_loan_balance(1000, .06,10) == 90073\n",
        "  test_loan_balance"
      ],
      "metadata": {
        "id": "8ImiW9168nEO"
      },
      "execution_count": 92,
      "outputs": []
    }
  ],
  "metadata": {
    "kernelspec": {
      "display_name": "Python 3",
      "language": "python",
      "name": "python3"
    },
    "language_info": {
      "codemirror_mode": {
        "name": "ipython",
        "version": 3
      },
      "file_extension": ".py",
      "mimetype": "text/x-python",
      "name": "python",
      "nbconvert_exporter": "python",
      "pygments_lexer": "ipython3",
      "version": "3.7.2"
    },
    "colab": {
      "provenance": []
    }
  },
  "nbformat": 4,
  "nbformat_minor": 0
}