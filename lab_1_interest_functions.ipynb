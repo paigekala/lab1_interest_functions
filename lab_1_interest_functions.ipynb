{
  "cells": [
    {
      "cell_type": "markdown",
      "metadata": {
        "id": "mYbKfibwgS6m"
      },
      "source": [
        "## Lab 1 - Compound Interest Functions\n",
        "\n",
        "Below you will find a table of important formulae related to compound interest.  \n",
        "\n",
        "<img src=\"https://www.dummies.com/wp-content/uploads/251689.image0.jpg\" alt=\"image0.jpg\" width=\"400\" height=\"319\">\n",
        "\n",
        "In this lab, you will create functions for each of these using (and documenting) the following workflow.\n",
        "\n",
        "1. Work out the correct answer for a few examples. *Hint* Search for e.g. \"worked out compound interest examples\" on the web.\n",
        "2. Write a `lambda` function and test this function on your test cases.\n",
        "3. Convert the `lambda` function to a `def` statement with an informative doc string that follows the [Google formating rules](https://google.github.io/styleguide/pyguide.html#383-functions-and-methods).\n",
        "4. Write an automated test function (using your previous examples) that will test your `def` statement function each time the code is executed."
      ]
    },
    {
      "cell_type": "markdown",
      "metadata": {
        "id": "C4M4IkrFgS6q"
      },
      "source": [
        "#### Problem 1 -- Apply the process to create a simple interest functions."
      ]
    },
    {
      "cell_type": "code",
      "execution_count": 6,
      "metadata": {
        "id": "HYbO4uvEgS6r",
        "outputId": "999d7f9a-cf58-407f-b54f-cdddcd27cd7a",
        "colab": {
          "base_uri": "https://localhost:8080/"
        }
      },
      "outputs": [
        {
          "output_type": "execute_result",
          "data": {
            "text/plain": [
              "4000.0"
            ]
          },
          "metadata": {},
          "execution_count": 6
        }
      ],
      "source": [
        "#car loan of $20,000 with an interest rate of 4%. We want to find the price after 5 years.\n",
        "\n",
        "(20000*.04)*5"
      ]
    },
    {
      "cell_type": "code",
      "source": [
        "loan = 20000\n",
        "interest_rate = .04\n",
        "years = 5\n",
        "price = (loan*interest_rate)*years\n",
        "price"
      ],
      "metadata": {
        "id": "GTcKedj-ixH5",
        "outputId": "944faf7c-5fe6-4252-ccaf-d9d65f73bbee",
        "colab": {
          "base_uri": "https://localhost:8080/"
        }
      },
      "execution_count": 7,
      "outputs": [
        {
          "output_type": "execute_result",
          "data": {
            "text/plain": [
              "4000.0"
            ]
          },
          "metadata": {},
          "execution_count": 7
        }
      ]
    },
    {
      "cell_type": "code",
      "source": [
        "price = lambda loan, interest_rate, years: (loan*interest_rate)*years #using different numbers to test\n",
        "price(30000, .05, 6)"
      ],
      "metadata": {
        "id": "h32YQ9xUjITn",
        "outputId": "58e8d7c5-185c-4a55-c551-c15c3074a912",
        "colab": {
          "base_uri": "https://localhost:8080/"
        }
      },
      "execution_count": 13,
      "outputs": [
        {
          "output_type": "execute_result",
          "data": {
            "text/plain": [
              "9000.0"
            ]
          },
          "metadata": {},
          "execution_count": 13
        }
      ]
    },
    {
      "cell_type": "code",
      "source": [
        "def price(loan, interest_rate, years):\n",
        "  \"\"\"Compute the car loan's interest rate over the course of 6 years\"\"\"\n",
        "  output = (loan*interest_rate)*years\n",
        "  return output"
      ],
      "metadata": {
        "id": "mftvd8JZjhoo"
      },
      "execution_count": 11,
      "outputs": []
    },
    {
      "cell_type": "code",
      "source": [
        "def test_price():\n",
        "  assert price(30000, .05, 6) == 9000\n",
        "  test_price"
      ],
      "metadata": {
        "id": "RfvQ11_PkCIX"
      },
      "execution_count": 12,
      "outputs": []
    },
    {
      "cell_type": "markdown",
      "metadata": {
        "id": "PcwPzFxMgS6t"
      },
      "source": [
        "#### Problem 2 -- Apply the process to create a compound interest functions."
      ]
    },
    {
      "cell_type": "code",
      "execution_count": 24,
      "metadata": {
        "id": "9AttBGEcgS6t",
        "outputId": "10b63daf-d496-4e6f-da13-11bdaa8563c5",
        "colab": {
          "base_uri": "https://localhost:8080/"
        }
      },
      "outputs": [
        {
          "output_type": "execute_result",
          "data": {
            "text/plain": [
              "1744559.928336017"
            ]
          },
          "metadata": {},
          "execution_count": 24
        }
      ],
      "source": [
        "# If an amount of $5,000 is deposited into a savings account at an annual interest rate of 5%, compounded monthly, \n",
        "#the value of the investment after 10 years can be calculated as follows...\n",
        "\n",
        "(1+(.05%12))**(12*10)"
      ]
    },
    {
      "cell_type": "markdown",
      "metadata": {
        "id": "LVdbgFF2gS6t"
      },
      "source": [
        "#### Problem 3 -- Apply the process to create a amortized loan payment function."
      ]
    },
    {
      "cell_type": "code",
      "execution_count": null,
      "metadata": {
        "id": "EV4Po7KxgS6u"
      },
      "outputs": [],
      "source": [
        "\"Your code here, insert more cells as needed\""
      ]
    },
    {
      "cell_type": "markdown",
      "metadata": {
        "id": "KTNA0Rj7gS6u"
      },
      "source": [
        "#### Problem 4 -- Apply the process to create a remaining balance function"
      ]
    },
    {
      "cell_type": "code",
      "execution_count": null,
      "metadata": {
        "id": "WXggVP96gS6u"
      },
      "outputs": [],
      "source": [
        "\"Your code here, insert more cells as needed\""
      ]
    }
  ],
  "metadata": {
    "kernelspec": {
      "display_name": "Python 3",
      "language": "python",
      "name": "python3"
    },
    "language_info": {
      "codemirror_mode": {
        "name": "ipython",
        "version": 3
      },
      "file_extension": ".py",
      "mimetype": "text/x-python",
      "name": "python",
      "nbconvert_exporter": "python",
      "pygments_lexer": "ipython3",
      "version": "3.7.2"
    },
    "colab": {
      "provenance": []
    }
  },
  "nbformat": 4,
  "nbformat_minor": 0
}